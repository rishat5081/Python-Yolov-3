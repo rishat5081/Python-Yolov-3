{
 "metadata": {
  "language_info": {
   "codemirror_mode": {
    "name": "ipython",
    "version": 3
   },
   "file_extension": ".py",
   "mimetype": "text/x-python",
   "name": "python",
   "nbconvert_exporter": "python",
   "pygments_lexer": "ipython3",
   "version": 3
  },
  "orig_nbformat": 2,
  "kernelspec": {
   "name": "python_defaultSpec_1597127052374",
   "display_name": "Python 3.8.3 64-bit ('base': conda)"
  }
 },
 "nbformat": 4,
 "nbformat_minor": 2,
 "cells": [
  {
   "cell_type": "code",
   "execution_count": 1,
   "metadata": {
    "tags": []
   },
   "outputs": [],
   "source": [
    "import cv2\n",
    "import numpy as np\n",
    "net = cv2.dnn.readNet('yolov3.weights','yolov3.cfg')\n",
    "classes = []\n",
    "with open('coco.names','r') as f:\n",
    "    classes = f.read().splitlines()\n",
    "# printing the data which is loaded from the names file\n",
    "#print(classes)\n",
    "img = cv2.imread('image.jpg')\n",
    "height, width, _ = img.shape\n",
    "blob = cv2.dnn.blobFromImage(img, 1/255,  (416 , 416), (0,0,0) ,1,crop=False)\n",
    "net.setInput(blob)\n",
    "output_layer_names = net.getUnconnectedOutLayersNames()\n",
    "layerOutput = net.forward(output_layer_names)\n",
    "boxes = []\n",
    "confidences = []\n",
    "class_ids =[]\n",
    "chairs=0\n",
    "bottles =0 \n",
    "diningtable = 0\n",
    "# cv2.imshow('Image',img)\n",
    "# cv2.waitKey(0)\n",
    "# cv2.destroyAllWindows()"
   ]
  },
  {
   "cell_type": "code",
   "execution_count": 2,
   "metadata": {},
   "outputs": [],
   "source": [
    "for output in layerOutput:\n",
    "    for detection in output:\n",
    "        scores = detection[5:]\n",
    "        class_id = np.argmax(scores)\n",
    "        confidence = scores[class_id]\n",
    "        if confidence > 0.5:\n",
    "            center_x = int(detection[0]*width)\n",
    "            center_y = int(detection[1]*height)\n",
    "            w = int(detection[2]*width)\n",
    "            h = int(detection[3]*height)\n",
    "\n",
    "\n",
    "            x = int(center_x - w/2)\n",
    "            y = int(center_y - h/2)\n",
    "\n",
    "            boxes.append([x,y,w,h])\n",
    "            confidences.append((float(confidence)))\n",
    "            class_ids.append(class_id)"
   ]
  },
  {
   "cell_type": "code",
   "execution_count": 3,
   "metadata": {
    "tags": []
   },
   "outputs": [],
   "source": [
    "indexes = cv2.dnn.NMSBoxes(boxes,confidences,0.5,0.4)\n",
    "font = cv2.FONT_HERSHEY_COMPLEX\n",
    "colors = np.random.uniform(0,255,size=(len(boxes),3))"
   ]
  },
  {
   "cell_type": "code",
   "execution_count": 4,
   "metadata": {
    "tags": []
   },
   "outputs": [],
   "source": [
    "for i in indexes.flatten():\n",
    "    labelsss = str(classes[class_ids[i]])\n",
    "    if(labelsss == 'chair'):\n",
    "        chairs+=1\n",
    "    if(labelsss == 'diningtable'):\n",
    "        diningtable+=1\n",
    "\n",
    "for i in indexes.flatten():\n",
    "    x,y,w,h = boxes[i]\n",
    "    label =str(classes[class_ids[i]])\n",
    "    confidence = str(round(confidences[i],1))\n",
    "    color = colors[i]\n",
    "    cv2.rectangle(img,(x,y),(x+w , y+h), color, 2)\n",
    "   \n",
    "    # print(\"label\"+label)\n",
    "    cv2.putText(img, label + \" \", (x, y+20), font, 0.8, (0,0,0),2)\n",
    "    cv2.putText(img, 'Chair'+ \":\" + str(chairs), (20, 20), font, 0.8, (0,0,0),2)\n",
    "    cv2.putText(img, 'Dining Table'+ \":\" + str(diningtable), (20, 40), font, 0.8, (0,0,0),2)\n",
    "   # cv2.putText(img, 'Chair'+ \":\" + chairs, (20, 20), font, 0.8, (0,0,0),2)"
   ]
  },
  {
   "cell_type": "code",
   "execution_count": 5,
   "metadata": {},
   "outputs": [],
   "source": [
    "cv2.imshow('Image',img)\n",
    "cv2.waitKey(0)\n",
    "cv2.destroyAllWindows()"
   ]
  }
 ]
}